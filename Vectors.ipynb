{
 "cells": [
  {
   "cell_type": "markdown",
   "id": "013506de",
   "metadata": {},
   "source": [
    "## Defning vectors"
   ]
  },
  {
   "cell_type": "code",
   "execution_count": 1,
   "id": "022a4e4d",
   "metadata": {},
   "outputs": [
    {
     "data": {
      "text/plain": [
       "array([1, 2, 3])"
      ]
     },
     "execution_count": 1,
     "metadata": {},
     "output_type": "execute_result"
    }
   ],
   "source": [
    "# Defining a Vector\n",
    "import numpy as np\n",
    "\n",
    "# single dimension array is vector \n",
    "x = [1,2,3]\n",
    "vector = np.array(x)\n",
    "vector"
   ]
  },
  {
   "cell_type": "code",
   "execution_count": 2,
   "id": "813b3bf0",
   "metadata": {},
   "outputs": [
    {
     "data": {
      "text/plain": [
       "1"
      ]
     },
     "execution_count": 2,
     "metadata": {},
     "output_type": "execute_result"
    }
   ],
   "source": [
    "# Vector created is single dimension array\n",
    "vector.ndim"
   ]
  },
  {
   "cell_type": "code",
   "execution_count": 3,
   "id": "03002a89",
   "metadata": {},
   "outputs": [
    {
     "data": {
      "text/plain": [
       "(3,)"
      ]
     },
     "execution_count": 3,
     "metadata": {},
     "output_type": "execute_result"
    }
   ],
   "source": [
    "# Shape of the vector: single dimension\n",
    "vector.shape"
   ]
  },
  {
   "cell_type": "markdown",
   "id": "05598c26",
   "metadata": {},
   "source": [
    "## Arithmetic operations on Vectors"
   ]
  },
  {
   "cell_type": "code",
   "execution_count": 5,
   "id": "a5f16e7e",
   "metadata": {},
   "outputs": [
    {
     "name": "stdout",
     "output_type": "stream",
     "text": [
      "[27 35 13 20 26]\n",
      "[70 64 35 30 36]\n",
      "addition [97 99 48 50 62]\n"
     ]
    }
   ],
   "source": [
    "a = np.random.randint(10,50,size =5) \n",
    "b = np.random.randint(25,75,size = 5)\n",
    "print(a)\n",
    "print(b)\n",
    "c = a + b\n",
    "print(\"addition\",c)"
   ]
  },
  {
   "cell_type": "code",
   "execution_count": 6,
   "id": "3b951f46",
   "metadata": {},
   "outputs": [
    {
     "name": "stdout",
     "output_type": "stream",
     "text": [
      "[19 31 24 33 26]\n",
      "[47 28 59 34 66]\n",
      "difference [-28   3 -35  -1 -40]\n"
     ]
    }
   ],
   "source": [
    " a = np.random.randint(10,50,size =5) \n",
    "b = np.random.randint(25,75,size = 5)\n",
    "print(a)\n",
    "print(b)\n",
    "c = a - b\n",
    "print(\"difference\",c)"
   ]
  },
  {
   "cell_type": "code",
   "execution_count": 7,
   "id": "7b21e124",
   "metadata": {},
   "outputs": [
    {
     "name": "stdout",
     "output_type": "stream",
     "text": [
      "[33 44 32 30 17]\n",
      "[45 54 63 66 50]\n",
      "multiplication [1485 2376 2016 1980  850]\n"
     ]
    }
   ],
   "source": [
    " a = np.random.randint(10,50,size =5) \n",
    "b = np.random.randint(25,75,size = 5)\n",
    "print(a)\n",
    "print(b)\n",
    "c = a * b\n",
    "print(\"multiplication\",c)"
   ]
  },
  {
   "cell_type": "code",
   "execution_count": 8,
   "id": "6d416d72",
   "metadata": {},
   "outputs": [
    {
     "name": "stdout",
     "output_type": "stream",
     "text": [
      "[18 35 24 10 17]\n",
      "[25 29 38 46 51]\n",
      "division [0.72       1.20689655 0.63157895 0.2173913  0.33333333]\n"
     ]
    }
   ],
   "source": [
    "  a = np.random.randint(10,50,size =5) \n",
    "b = np.random.randint(25,75,size = 5)\n",
    "print(a)\n",
    "print(b)\n",
    "c = a / b\n",
    "print(\"division\",c)"
   ]
  },
  {
   "cell_type": "markdown",
   "id": "8c70c9b5",
   "metadata": {},
   "source": [
    "## Vector Dot product\n"
   ]
  },
  {
   "cell_type": "code",
   "execution_count": 9,
   "id": "fc8949f4",
   "metadata": {},
   "outputs": [
    {
     "name": "stdout",
     "output_type": "stream",
     "text": [
      "[46 32 12 14 18]\n",
      "[68 54 67 50 49]\n"
     ]
    }
   ],
   "source": [
    "a = np.random.randint(10,50,size =5) \n",
    "b = np.random.randint(25,75,size = 5)\n",
    "print(a)\n",
    "print(b)\n"
   ]
  },
  {
   "cell_type": "code",
   "execution_count": 10,
   "id": "f32acec2",
   "metadata": {},
   "outputs": [
    {
     "data": {
      "text/plain": [
       "7242"
      ]
     },
     "execution_count": 10,
     "metadata": {},
     "output_type": "execute_result"
    }
   ],
   "source": [
    "vector_dot = a.dot(b)\n",
    "vector_dot"
   ]
  },
  {
   "cell_type": "code",
   "execution_count": 11,
   "id": "7d15b4a0",
   "metadata": {},
   "outputs": [
    {
     "name": "stdout",
     "output_type": "stream",
     "text": [
      "[5 6 7 8 9]\n",
      "[0 1 2 3 4]\n",
      "dot product 80\n"
     ]
    }
   ],
   "source": [
    "x = np.arange(5,10)\n",
    "y = np.arange(5)\n",
    "print(x)\n",
    "print(y)\n",
    "vector_dot = x.dot(y)\n",
    "print(\"dot product\", vector_dot)"
   ]
  },
  {
   "cell_type": "markdown",
   "id": "109fa68a",
   "metadata": {},
   "source": [
    "## Vector Scalar Multiplication"
   ]
  },
  {
   "cell_type": "code",
   "execution_count": 12,
   "id": "ab5d7403",
   "metadata": {},
   "outputs": [
    {
     "name": "stdout",
     "output_type": "stream",
     "text": [
      "vector scalar multiplication [15 18 21 24 27]\n"
     ]
    }
   ],
   "source": [
    "x = np.arange(5,10)\n",
    "vs = 3 * x\n",
    "print(\"vector scalar multiplication\" , vs)"
   ]
  },
  {
   "cell_type": "code",
   "execution_count": 13,
   "id": "3f584199",
   "metadata": {},
   "outputs": [
    {
     "data": {
      "text/plain": [
       "array([5, 6, 7, 8, 9])"
      ]
     },
     "execution_count": 13,
     "metadata": {},
     "output_type": "execute_result"
    }
   ],
   "source": [
    "x"
   ]
  },
  {
   "cell_type": "code",
   "execution_count": null,
   "id": "1e52ae31",
   "metadata": {},
   "outputs": [],
   "source": []
  }
 ],
 "metadata": {
  "kernelspec": {
   "display_name": "Python 3",
   "language": "python",
   "name": "python3"
  },
  "language_info": {
   "codemirror_mode": {
    "name": "ipython",
    "version": 3
   },
   "file_extension": ".py",
   "mimetype": "text/x-python",
   "name": "python",
   "nbconvert_exporter": "python",
   "pygments_lexer": "ipython3",
   "version": "3.8.8"
  }
 },
 "nbformat": 4,
 "nbformat_minor": 5
}
